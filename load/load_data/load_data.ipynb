{
 "cells": [
  {
   "cell_type": "markdown",
   "metadata": {},
   "source": [
    "# Load Data Into the PostgreSQL Server\n",
    "\n",
    "Make sure server is active and the database exists before running"
   ]
  },
  {
   "cell_type": "code",
   "execution_count": 1,
   "metadata": {},
   "outputs": [],
   "source": [
    "# database engine\n",
    "from sqlalchemy import create_engine, inspect\n",
    "\n",
    "# pandas\n",
    "import pandas as pd"
   ]
  },
  {
   "cell_type": "code",
   "execution_count": 2,
   "metadata": {},
   "outputs": [],
   "source": [
    "# database credentials\n",
    "SQL_USERNAME = 'postgres' # Change this to your username\n",
    "SQL_PASSWORD = 'postgres' # Change this to your password\n",
    "SQL_IP = 'localhost' # Default is 'localhost'\n",
    "SQL_PORT = '5432' # Default is '5432'\n",
    "SQL_DBNAME = 'crowdfunding_db' # Change this to your database name"
   ]
  },
  {
   "cell_type": "code",
   "execution_count": 3,
   "metadata": {},
   "outputs": [],
   "source": [
    "# connect to database\n",
    "connection_string = f\"postgresql+psycopg2://{SQL_USERNAME}:{SQL_PASSWORD}@{SQL_IP}:{SQL_PORT}/{SQL_DBNAME}\"\n",
    "engine = create_engine(connection_string)"
   ]
  },
  {
   "cell_type": "code",
   "execution_count": 4,
   "metadata": {},
   "outputs": [
    {
     "name": "stdout",
     "output_type": "stream",
     "text": [
      "contacts\n",
      "contact_id INTEGER\n",
      "first_name VARCHAR(20)\n",
      "last_name VARCHAR(20)\n",
      "email VARCHAR(50)\n",
      "last_updated TIMESTAMP\n",
      "\n",
      "campaigns\n",
      "cf_id INTEGER\n",
      "contact_id INTEGER\n",
      "company_name VARCHAR(50)\n",
      "description VARCHAR(75)\n",
      "goal INTEGER\n",
      "pledged INTEGER\n",
      "outcome VARCHAR(10)\n",
      "backers_count INTEGER\n",
      "country VARCHAR(2)\n",
      "currency VARCHAR(3)\n",
      "launched_date DATE\n",
      "end_date DATE\n",
      "category_id VARCHAR(4)\n",
      "subcategory_id VARCHAR(10)\n",
      "last_updated TIMESTAMP\n",
      "\n",
      "categories\n",
      "category_id VARCHAR(4)\n",
      "category VARCHAR(20)\n",
      "last_updated TIMESTAMP\n",
      "\n",
      "sub_categories\n",
      "subcategory_id VARCHAR(10)\n",
      "subcategory VARCHAR(20)\n",
      "last_updated TIMESTAMP\n",
      "\n"
     ]
    }
   ],
   "source": [
    "# explore and understand the data\n",
    "\n",
    "# Create the inspector and connect it to the engine\n",
    "inspector = inspect(engine)\n",
    "\n",
    "# Collect the names of tables within the database\n",
    "tables = inspector.get_table_names()\n",
    "\n",
    "# Using the inspector to print the column names within each table and its types\n",
    "for table in tables:\n",
    "    print(table)\n",
    "    columns = inspector.get_columns(table)\n",
    "    for column in columns:\n",
    "        print(column[\"name\"], column[\"type\"])\n",
    "        \n",
    "    print()"
   ]
  },
  {
   "cell_type": "code",
   "execution_count": 5,
   "metadata": {},
   "outputs": [],
   "source": [
    "# load data into dataframes\n",
    "categories_df = pd.read_csv('../../data/cleaned_data/category.csv')\n",
    "subcategories_df = pd.read_csv('../../data/cleaned_data/subcategory.csv')\n",
    "contacts_df = pd.read_csv('../../data/cleaned_data/contacts.csv')\n",
    "campaigns_df = pd.read_csv('../../data/cleaned_data/campaign.csv')"
   ]
  },
  {
   "cell_type": "code",
   "execution_count": 6,
   "metadata": {},
   "outputs": [
    {
     "data": {
      "text/plain": [
       "1000"
      ]
     },
     "execution_count": 6,
     "metadata": {},
     "output_type": "execute_result"
    }
   ],
   "source": [
    "# write dataframes to database\n",
    "categories_df.to_sql(name='categories', con=engine, if_exists='append', index=False)\n",
    "subcategories_df.to_sql(name='sub_categories', con=engine, if_exists='append', index=False)\n",
    "contacts_df.to_sql(name='contacts', con=engine, if_exists='append', index=False)\n",
    "campaigns_df.to_sql(name='campaigns', con=engine, if_exists='append', index=False)"
   ]
  },
  {
   "cell_type": "code",
   "execution_count": 7,
   "metadata": {},
   "outputs": [],
   "source": [
    "# close database\n",
    "engine.dispose()"
   ]
  }
 ],
 "metadata": {
  "kernelspec": {
   "display_name": "dev",
   "language": "python",
   "name": "python3"
  },
  "language_info": {
   "codemirror_mode": {
    "name": "ipython",
    "version": 3
   },
   "file_extension": ".py",
   "mimetype": "text/x-python",
   "name": "python",
   "nbconvert_exporter": "python",
   "pygments_lexer": "ipython3",
   "version": "3.10.13"
  }
 },
 "nbformat": 4,
 "nbformat_minor": 2
}
